{
 "cells": [
  {
   "cell_type": "code",
   "execution_count": 1,
   "metadata": {},
   "outputs": [],
   "source": [
    "import copy\n",
    "import importlib\n",
    "import json\n",
    "from pathlib import Path\n",
    "\n",
    "import numpy as np\n",
    "from matplotlib import pyplot as plt\n",
    "import pandas as pd\n",
    "\n",
    "from util import gen_util, logger_util, plot_util\n",
    "from sess_util import sess_gen_util, sess_ntuple_util, sess_load_util\n",
    "from analysis import session"
   ]
  },
  {
   "cell_type": "code",
   "execution_count": 2,
   "metadata": {},
   "outputs": [],
   "source": [
    "logger_util.format_all(level='info')\n",
    "plot_util.linclab_plt_defaults()"
   ]
  },
  {
   "cell_type": "code",
   "execution_count": 3,
   "metadata": {},
   "outputs": [],
   "source": [
    "def init_session(sessid, datadir, full_table=False, roi=True, run=False, pupil=False):\n",
    "    sess = session.Session(sessid, datadir)\n",
    "    print(f\"Mouse {sess.mouse_n}, Session {sess.sess_n}\")\n",
    "    sess.extract_info(full_table=full_table, roi=roi, run=run, pupil=pupil)\n",
    "    return sess\n",
    "\n",
    "def set_all_parameters(stimtype):\n",
    "    if stimtype == \"gabors\":\n",
    "        post = 1.5\n",
    "    elif stimtype == \"visflow\":\n",
    "        post = 1.0\n",
    "\n",
    "    stimpar = sess_ntuple_util.init_stimpar(stimtype, gabfr=gabfr, pre=pre, post=post)\n",
    "    return stimpar"
   ]
  },
  {
   "cell_type": "markdown",
   "metadata": {},
   "source": [
    "## PARAMETERS"
   ]
  },
  {
   "cell_type": "code",
   "execution_count": 4,
   "metadata": {},
   "outputs": [],
   "source": [
    "datadir = Path(\"..\", \"data\", \"OSCA\")\n",
    "\n",
    "pre = 0\n",
    "gabfr = 0"
   ]
  },
  {
   "cell_type": "code",
   "execution_count": null,
   "metadata": {},
   "outputs": [],
   "source": []
  }
 ],
 "metadata": {
  "kernelspec": {
   "display_name": "Python 3",
   "language": "python",
   "name": "python3"
  },
  "language_info": {
   "codemirror_mode": {
    "name": "ipython",
    "version": 3
   },
   "file_extension": ".py",
   "mimetype": "text/x-python",
   "name": "python",
   "nbconvert_exporter": "python",
   "pygments_lexer": "ipython3",
   "version": "3.7.11"
  }
 },
 "nbformat": 4,
 "nbformat_minor": 4
}
